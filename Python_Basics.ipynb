{
  "nbformat": 4,
  "nbformat_minor": 0,
  "metadata": {
    "colab": {
      "provenance": []
    },
    "kernelspec": {
      "name": "python3",
      "display_name": "Python 3"
    },
    "language_info": {
      "name": "python"
    }
  },
  "cells": [
    {
      "cell_type": "markdown",
      "source": [
        "#PYTHON_BASICS\n"
      ],
      "metadata": {
        "id": "MTF4lEUy_wcA"
      }
    },
    {
      "cell_type": "markdown",
      "source": [
        "PYTHON_BASICS_QUESTION\n"
      ],
      "metadata": {
        "id": "UX4EQOUQA1QP"
      }
    },
    {
      "cell_type": "markdown",
      "source": [
        "1- What is Python, and why is it popular ?\n",
        "\n",
        "\n",
        "ANS-python is an interpreated as well as compiled language.\n",
        "   Python is a high-level, interpreted programming language known for its simplicity and readability.it is popular because its very easy to learn and use."
      ],
      "metadata": {
        "id": "wpMP6tG9_wgS"
      }
    },
    {
      "cell_type": "markdown",
      "source": [
        "2-What is an interpreter in Python?\n",
        "\n",
        "\n",
        "ANS-An interpreter is a program that executes Python code line by line, converting it into machine-code where machine can understand and  instructions at runtime."
      ],
      "metadata": {
        "id": "w4lMhlRb_wkR"
      }
    },
    {
      "cell_type": "markdown",
      "source": [
        "3-What are pre-defined keywords in Python?\n",
        "\n",
        "\n",
        "ans-keywords in python are reserved word and have special meaning and specific meaning to use in this language. we cannot use keywords as a variable name and identifier name .eg:-not, in, for, while, if ,elif , if-else etc"
      ],
      "metadata": {
        "id": "lO3UL-fX_wo5"
      }
    },
    {
      "cell_type": "markdown",
      "source": [
        "4-Can keywords be used as variable names?\n",
        "\n",
        "ans-no, because its already reserved and have special meaning."
      ],
      "metadata": {
        "id": "uvF5-0Mf_wtI"
      }
    },
    {
      "cell_type": "markdown",
      "source": [
        "5-What is mutability in Python?\n",
        "\n",
        "ans-mutability in python means we can change the object value after creaiton , and recreate it . eg:-list, sets and dictionary."
      ],
      "metadata": {
        "id": "6p0c7BqG_wwh"
      }
    },
    {
      "cell_type": "markdown",
      "source": [
        "6-Why are lists mutable, but tuples are immutable ?\n",
        "\n",
        "\n",
        "Ans-Lists are mutable because they allow modification of elements, making them flexible for dynamic data. Tuples are immutable because they are meant for fixed data, ensuring stability, faster performance, and usage as dictionary keys."
      ],
      "metadata": {
        "id": "72_WsQw5_w0R"
      }
    },
    {
      "cell_type": "markdown",
      "source": [
        "7-What is the difference between “==” and “is” operators in Python ?\n",
        "\n",
        "\n",
        "Ans-\"=\" this is used to comaparision netween value\n",
        "\n",
        "   \"is\"this is used to check the identify or memory location of an object."
      ],
      "metadata": {
        "id": "zvIigQE-_w3g"
      }
    },
    {
      "cell_type": "markdown",
      "source": [
        "8-What are logical operators in Python ?\n",
        "\n",
        "Ans-logical operrator in python where we used not, and ,or.It is used in conditonal statement and give \"True\" and \"False\" result.\n",
        ""
      ],
      "metadata": {
        "id": "FFxShpPN_w6w"
      }
    },
    {
      "cell_type": "markdown",
      "source": [
        "9-What is type casting in Python ?\n",
        "\n",
        "Ans-it is used to convert the data type into another data type. string to int, float.by using their str function."
      ],
      "metadata": {
        "id": "ewYl_yhP_w9w"
      }
    },
    {
      "cell_type": "markdown",
      "source": [
        "10- What is the difference between implicit and explicit type casting ?\n",
        "\n",
        "Ans- Implicit type casting -> Python automatically converts data types (e.g., int -> float).\n",
        "\n",
        "Explicit type casting -> Programmer manually converts data types using functions like int(), float(), str()."
      ],
      "metadata": {
        "id": "KC2HjAVWFF64"
      }
    },
    {
      "cell_type": "markdown",
      "source": [
        "11-What is the purpose of conditional statements in Python?\n",
        "\n",
        "Ans-The purpose of conditional statements in Python is to control the flow of execution by checking conditions and executing code blocks only when the condition is true (e.g., if, elif, else)"
      ],
      "metadata": {
        "id": "XZpSsw3_FXV_"
      }
    },
    {
      "cell_type": "markdown",
      "source": [
        "12-How does the elif statement work?\n",
        "\n",
        "Ans-The elif statement in Python is used for multiple condition checks. It is evaluated after the if condition, and if true, its block executes; otherwise, Python continues to the next elif or else."
      ],
      "metadata": {
        "id": "LrA5qPynFkr2"
      }
    },
    {
      "cell_type": "markdown",
      "source": [
        "13-What is the difference between for and while loops?\n",
        "\n",
        "Ans-for loop -> used when you know the number of iterations (works with sequences like range, list, string).\n",
        "\n",
        "while loop -> used when the number of iterations depends on a condition and may not be known in advance."
      ],
      "metadata": {
        "id": "ScZjIrXdF1js"
      }
    },
    {
      "cell_type": "markdown",
      "source": [
        "14-Describe a scenario where a while loop is more suitable than a for loop.\n",
        "\n",
        "Ans-While loop is more suitable than a For loop , when we don't know the exact number of iteration."
      ],
      "metadata": {
        "id": "MitorgjcGP7i"
      }
    },
    {
      "cell_type": "markdown",
      "source": [
        "Practical Questions"
      ],
      "metadata": {
        "id": "CeKcYC6WGsHP"
      }
    },
    {
      "cell_type": "code",
      "source": [
        "#Write a Python program to print \"Hello, World!\n",
        "\n",
        "print(\"Hello,World!\")\n"
      ],
      "metadata": {
        "colab": {
          "base_uri": "https://localhost:8080/"
        },
        "id": "ACKsan9SG3hX",
        "outputId": "19c86856-b6f9-410c-ca15-c0ac52f6f362"
      },
      "execution_count": 1,
      "outputs": [
        {
          "output_type": "stream",
          "name": "stdout",
          "text": [
            "Hello,World!\n"
          ]
        }
      ]
    },
    {
      "cell_type": "code",
      "source": [
        "# Write a Python program that displays your name and age.\n",
        "\n",
        "a=input(\"whats your name\")\n",
        "b=input(\"whats your age\")\n",
        "print(a)\n",
        "print(b)"
      ],
      "metadata": {
        "colab": {
          "base_uri": "https://localhost:8080/"
        },
        "id": "ZJSerarJHJcr",
        "outputId": "e741991c-abcd-4ebc-ed2d-858dccaeef33"
      },
      "execution_count": 2,
      "outputs": [
        {
          "output_type": "stream",
          "name": "stdout",
          "text": [
            "whats your nameAKASH KUMAR\n",
            "whats your age21\n",
            "AKASH KUMAR\n",
            "21\n"
          ]
        }
      ]
    },
    {
      "cell_type": "code",
      "source": [
        "#Write code to print all the pre-defined keywords in Python using the keyword library.\n",
        "\n",
        "a=help(\"keywords\")\n",
        "print(a)"
      ],
      "metadata": {
        "colab": {
          "base_uri": "https://localhost:8080/"
        },
        "id": "zTcfKFiSHee0",
        "outputId": "106e8be0-23a8-40ce-98e4-830a3654c3d2"
      },
      "execution_count": 3,
      "outputs": [
        {
          "output_type": "stream",
          "name": "stdout",
          "text": [
            "\n",
            "Here is a list of the Python keywords.  Enter any keyword to get more help.\n",
            "\n",
            "False               class               from                or\n",
            "None                continue            global              pass\n",
            "True                def                 if                  raise\n",
            "and                 del                 import              return\n",
            "as                  elif                in                  try\n",
            "assert              else                is                  while\n",
            "async               except              lambda              with\n",
            "await               finally             nonlocal            yield\n",
            "break               for                 not                 \n",
            "\n",
            "None\n"
          ]
        }
      ]
    },
    {
      "cell_type": "code",
      "source": [
        "#Write a program that checks if a given word is a Python keyword.\n",
        "\n",
        "import keyword\n",
        "\n",
        "\n",
        "word = input(\"Enter a word: \")\n",
        "\n",
        "\n",
        "if keyword.iskeyword(word):\n",
        "    print(f\"'{word}' is a Python keyword.\")\n",
        "else:\n",
        "    print(f\"'{word}' is NOT a Python keyword.\")\n"
      ],
      "metadata": {
        "colab": {
          "base_uri": "https://localhost:8080/"
        },
        "id": "h5sqVADcHx9g",
        "outputId": "3b7d7f31-6497-4af7-8486-0d438e82e0cc"
      },
      "execution_count": 10,
      "outputs": [
        {
          "output_type": "stream",
          "name": "stdout",
          "text": [
            "Enter a word: for\n",
            "'for' is a Python keyword.\n"
          ]
        }
      ]
    },
    {
      "cell_type": "code",
      "source": [
        "# Create a list and tuple in Python, and demonstrate how attempting to change an element works differently for each.\n",
        "\n",
        "a=[1,2,3]\n",
        "print(\"orininal_list\",a)\n",
        "\n",
        "a[1]=25\n",
        "\n",
        "print(\"modified_list\",a)\n",
        "\n",
        "\n",
        "\n",
        "\n",
        "b=(1,2,3)\n",
        "print(\"orginal_tuple\",b)\n",
        "\n",
        "b[2]=25\n",
        "\n",
        "print(\"modified_tuple\",e)\n",
        "\n",
        "\n"
      ],
      "metadata": {
        "colab": {
          "base_uri": "https://localhost:8080/",
          "height": 263
        },
        "id": "qAxO34AZJ336",
        "outputId": "bed6d72b-7a5b-4f14-f813-2b811f126354"
      },
      "execution_count": 14,
      "outputs": [
        {
          "output_type": "stream",
          "name": "stdout",
          "text": [
            "orininal_list [1, 2, 3]\n",
            "modified_list [1, 25, 3]\n",
            "orginal_tuple (1, 2, 3)\n"
          ]
        },
        {
          "output_type": "error",
          "ename": "TypeError",
          "evalue": "'tuple' object does not support item assignment",
          "traceback": [
            "\u001b[0;31m---------------------------------------------------------------------------\u001b[0m",
            "\u001b[0;31mTypeError\u001b[0m                                 Traceback (most recent call last)",
            "\u001b[0;32m/tmp/ipython-input-3569548635.py\u001b[0m in \u001b[0;36m<cell line: 0>\u001b[0;34m()\u001b[0m\n\u001b[1;32m     14\u001b[0m \u001b[0mprint\u001b[0m\u001b[0;34m(\u001b[0m\u001b[0;34m\"orginal_tuple\"\u001b[0m\u001b[0;34m,\u001b[0m\u001b[0mb\u001b[0m\u001b[0;34m)\u001b[0m\u001b[0;34m\u001b[0m\u001b[0;34m\u001b[0m\u001b[0m\n\u001b[1;32m     15\u001b[0m \u001b[0;34m\u001b[0m\u001b[0m\n\u001b[0;32m---> 16\u001b[0;31m \u001b[0mb\u001b[0m\u001b[0;34m[\u001b[0m\u001b[0;36m2\u001b[0m\u001b[0;34m]\u001b[0m\u001b[0;34m=\u001b[0m\u001b[0;36m25\u001b[0m\u001b[0;34m\u001b[0m\u001b[0;34m\u001b[0m\u001b[0m\n\u001b[0m\u001b[1;32m     17\u001b[0m \u001b[0;34m\u001b[0m\u001b[0m\n\u001b[1;32m     18\u001b[0m \u001b[0mprint\u001b[0m\u001b[0;34m(\u001b[0m\u001b[0;34m\"modified_tuple\"\u001b[0m\u001b[0;34m,\u001b[0m\u001b[0me\u001b[0m\u001b[0;34m)\u001b[0m\u001b[0;34m\u001b[0m\u001b[0;34m\u001b[0m\u001b[0m\n",
            "\u001b[0;31mTypeError\u001b[0m: 'tuple' object does not support item assignment"
          ]
        }
      ]
    },
    {
      "cell_type": "code",
      "source": [
        "# Write a function to demonstrate the behavior of mutable and immutable arguments.\n",
        "\n",
        "\n",
        "def modify_values(num, my_list):\n",
        "    num += 10\n",
        "    my_list.append(100)\n",
        "    print(\"Inside function:\")\n",
        "    print(\"num =\", num)\n",
        "    print(\"my_list =\", my_list)\n",
        "\n",
        "x = 5\n",
        "lst = [1, 2, 3]\n",
        "\n",
        "print(\"Before function call:\")\n",
        "print(\"x =\", x)\n",
        "print(\"lst =\", lst)\n",
        "\n",
        "modify_values(x, lst)\n",
        "\n",
        "print(\"\\nAfter function call:\")\n",
        "print(\"x =\", x)\n",
        "print(\"lst =\", lst)\n"
      ],
      "metadata": {
        "colab": {
          "base_uri": "https://localhost:8080/"
        },
        "id": "LwVzCbqGLtEs",
        "outputId": "886b49fa-719d-4641-c923-4a6404a6288f"
      },
      "execution_count": 15,
      "outputs": [
        {
          "output_type": "stream",
          "name": "stdout",
          "text": [
            "Before function call:\n",
            "x = 5\n",
            "lst = [1, 2, 3]\n",
            "Inside function:\n",
            "num = 15\n",
            "my_list = [1, 2, 3, 100]\n",
            "\n",
            "After function call:\n",
            "x = 5\n",
            "lst = [1, 2, 3, 100]\n"
          ]
        }
      ]
    },
    {
      "cell_type": "code",
      "source": [
        "#Write a program that performs basic arithmetic operations on two user-input numbers\n",
        "\n",
        "a=int(input(\"first number\"))\n",
        "b=int(input(\"second number\"))\n",
        "\n",
        "# Aritmetic operation\n",
        "\n",
        "print(a+b)\n",
        "print(a-b)\n",
        "print(a*b)\n",
        "print(a/b)\n",
        "print(a%b)\n",
        "print(a//b)"
      ],
      "metadata": {
        "colab": {
          "base_uri": "https://localhost:8080/"
        },
        "id": "uEyACUIzMDpB",
        "outputId": "2fd6d059-4755-443e-ae9d-7f77903fda8a"
      },
      "execution_count": 16,
      "outputs": [
        {
          "output_type": "stream",
          "name": "stdout",
          "text": [
            "first number20\n",
            "second number40\n",
            "60\n",
            "-20\n",
            "800\n",
            "0.5\n",
            "20\n",
            "0\n"
          ]
        }
      ]
    },
    {
      "cell_type": "code",
      "source": [
        "# Write a program to demonstrate the use of logical operators.\n",
        "\n",
        "\n",
        "a=20\n",
        "b=40\n",
        "\n",
        "print(a>20 and b>20)\n",
        "print(a>40 and b<20)\n",
        "\n",
        "print(a>20 or b<40)\n",
        "print(a>40 or b<20)\n",
        "\n",
        "\n",
        "print(not(a>20))\n",
        "print(not(b<40))"
      ],
      "metadata": {
        "colab": {
          "base_uri": "https://localhost:8080/"
        },
        "id": "moNYrtfgMnNw",
        "outputId": "06f4220a-75e2-44bf-b901-932fa10a4240"
      },
      "execution_count": 18,
      "outputs": [
        {
          "output_type": "stream",
          "name": "stdout",
          "text": [
            "False\n",
            "False\n",
            "False\n",
            "False\n",
            "True\n",
            "True\n"
          ]
        }
      ]
    },
    {
      "cell_type": "code",
      "source": [
        "#Write a Python program to convert user input from string to integer, float, and boolean types.\n",
        "\n",
        "a=input(\"string number:--\")\n",
        "\n",
        "b=int(a)\n",
        "c=float(a)\n",
        "d=bool(a)\n",
        "\n",
        "print(a)\n",
        "print(b)\n",
        "print(c)\n",
        "print(d)"
      ],
      "metadata": {
        "colab": {
          "base_uri": "https://localhost:8080/"
        },
        "id": "-9TUNE0hNU1h",
        "outputId": "d1a2854b-7133-4d00-d571-7278f7ddc78e"
      },
      "execution_count": 20,
      "outputs": [
        {
          "output_type": "stream",
          "name": "stdout",
          "text": [
            "string number:--10\n",
            "10\n",
            "10\n",
            "10.0\n",
            "True\n"
          ]
        }
      ]
    },
    {
      "cell_type": "code",
      "source": [
        "# Write code to demonstrate type casting with list elements.\n",
        "\n",
        "list=[\"1\",\"2\",\"3\"]\n",
        "print(\"string_element\",list)\n",
        "\n",
        "list_int=[int(x) for x in list]\n",
        "\n",
        "print(\"after convert into int:--\",list_int)"
      ],
      "metadata": {
        "colab": {
          "base_uri": "https://localhost:8080/"
        },
        "id": "BFpNWpAyN5tR",
        "outputId": "63a9757f-626c-49be-de20-7dc1a61dbe53"
      },
      "execution_count": 22,
      "outputs": [
        {
          "output_type": "stream",
          "name": "stdout",
          "text": [
            "string_element ['1', '2', '3']\n",
            "after convert into int:-- [1, 2, 3]\n"
          ]
        }
      ]
    },
    {
      "cell_type": "code",
      "source": [
        "#Write a program that checks if a number is positive, negative, or zero\n",
        "\n",
        "a=int(input(\"enter number\"))\n",
        "if(a<0):\n",
        "  print(a,\" is negative\")\n",
        "\n",
        "elif(a>0):\n",
        "  print(a,\"is positive\")\n",
        "else:\n",
        "  print(a,\"zero\")\n",
        ""
      ],
      "metadata": {
        "colab": {
          "base_uri": "https://localhost:8080/"
        },
        "id": "bKhgatU9POTI",
        "outputId": "95b966ed-68e8-4e02-c524-70221f9edc1c"
      },
      "execution_count": 23,
      "outputs": [
        {
          "output_type": "stream",
          "name": "stdout",
          "text": [
            "enter number-12\n",
            "-12  is negative\n"
          ]
        }
      ]
    },
    {
      "cell_type": "code",
      "source": [
        "#Write a for loop to print numbers from 1 to 10\n",
        "\n",
        "a=1\n",
        "for a in range(1,11):\n",
        "  print(a,end=\" \")\n",
        "  a+=1"
      ],
      "metadata": {
        "colab": {
          "base_uri": "https://localhost:8080/"
        },
        "id": "1q0yjIUjP_2f",
        "outputId": "6465b638-982a-4dbf-a70d-789e4f819f34"
      },
      "execution_count": 25,
      "outputs": [
        {
          "output_type": "stream",
          "name": "stdout",
          "text": [
            "1 2 3 4 5 6 7 8 9 10 "
          ]
        }
      ]
    },
    {
      "cell_type": "code",
      "source": [
        " #Write a Python program to find the sum of all even numbers between 1 and 50\n",
        "sum=0\n",
        "for i in range(1,51):\n",
        "  if(i%2==0):\n",
        "\n",
        "    sum+=i\n",
        "\n",
        "  print(sum,end=\" \")\n",
        "\n"
      ],
      "metadata": {
        "colab": {
          "base_uri": "https://localhost:8080/"
        },
        "id": "2gCWcgR0QWoF",
        "outputId": "e88204c9-8b5a-4648-c5a5-4cb66c5e7619"
      },
      "execution_count": 28,
      "outputs": [
        {
          "output_type": "stream",
          "name": "stdout",
          "text": [
            "0 2 2 6 6 12 12 20 20 30 30 42 42 56 56 72 72 90 90 110 110 132 132 156 156 182 182 210 210 240 240 272 272 306 306 342 342 380 380 420 420 462 462 506 506 552 552 600 600 650 "
          ]
        }
      ]
    },
    {
      "cell_type": "code",
      "source": [
        "#Write a program to reverse a string using a while loop.\n",
        "\n",
        "\n",
        "text = \"Python\"\n",
        "reversed_text = \"\"\n",
        "\n",
        "i = len(text) - 1   # start from last index\n",
        "\n",
        "while i >= 0:\n",
        "    reversed_text += text[i]\n",
        "    i -= 1\n",
        "\n",
        "print(\"Original String:\", text)\n",
        "print(\"Reversed String:\", reversed_text)\n"
      ],
      "metadata": {
        "colab": {
          "base_uri": "https://localhost:8080/"
        },
        "id": "pUFhaJHFRZkt",
        "outputId": "705e299c-5361-48e6-a22a-131b57942ed3"
      },
      "execution_count": 29,
      "outputs": [
        {
          "output_type": "stream",
          "name": "stdout",
          "text": [
            "Original String: Python\n",
            "Reversed String: nohtyP\n"
          ]
        }
      ]
    },
    {
      "cell_type": "code",
      "source": [
        "# Write a Python program to calculate the factorial of a number provided by the user using a while loop.\n",
        "\n",
        "num = int(input(\"Enter a number: \"))\n",
        "fact = 1\n",
        "i = 1\n",
        "\n",
        "while i <= num:\n",
        "    fact *= i\n",
        "    i += 1\n",
        "\n",
        "print(\"Factorial of\", num, \"is:\", fact)\n"
      ],
      "metadata": {
        "colab": {
          "base_uri": "https://localhost:8080/"
        },
        "id": "PLQzGyaVRpwA",
        "outputId": "c0af6c8a-ac1a-424e-e7c2-1c94c104dde7"
      },
      "execution_count": 30,
      "outputs": [
        {
          "output_type": "stream",
          "name": "stdout",
          "text": [
            "Enter a number: 12\n",
            "Factorial of 12 is: 479001600\n"
          ]
        }
      ]
    }
  ]
}